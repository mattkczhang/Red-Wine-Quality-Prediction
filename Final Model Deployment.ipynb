{
 "cells": [
  {
   "cell_type": "code",
   "execution_count": 46,
   "id": "ba7a06fa",
   "metadata": {},
   "outputs": [
    {
     "data": {
      "text/plain": [
       "'/Users/chonge/Documents/Document/University_of_Chicago/Quarter_2/Data Mining Principle/final project'"
      ]
     },
     "execution_count": 46,
     "metadata": {},
     "output_type": "execute_result"
    }
   ],
   "source": [
    "pwd"
   ]
  },
  {
   "cell_type": "code",
   "execution_count": 42,
   "id": "5fc0e899",
   "metadata": {},
   "outputs": [],
   "source": [
    "##Import pandas packages\n",
    "import matplotlib.pyplot as plt\n",
    "import numpy as np\n",
    "import pandas as pd\n",
    "import statsmodels.formula.api as sm\n",
    "from sklearn.model_selection import train_test_split\n",
    "from sklearn.metrics import mean_squared_error, r2_score\n",
    "import matplotlib.pyplot as plt\n",
    "from sklearn.linear_model import LogisticRegression, LinearRegression, Lasso, Ridge, LassoCV, BayesianRidge\n",
    "from sklearn  import tree\n",
    "import seaborn as sns\n",
    "from sklearn.model_selection import KFold\n",
    "from sklearn.model_selection import cross_val_score\n",
    "from sklearn.ensemble import RandomForestClassifier\n",
    "from sklearn.model_selection import GridSearchCV\n",
    "import sklearn.metrics as metrics\n",
    "import joblib\n",
    "import streamlit as st\n",
    "# from pandas_profiling import ProfileReport\n",
    "%matplotlib inline"
   ]
  },
  {
   "cell_type": "code",
   "execution_count": 7,
   "id": "667807b1",
   "metadata": {},
   "outputs": [],
   "source": [
    "df = pd.read_csv('winequality-red.csv')"
   ]
  },
  {
   "cell_type": "code",
   "execution_count": 8,
   "id": "53c3065c",
   "metadata": {},
   "outputs": [],
   "source": [
    "X_full = df.copy()\n",
    "X_full = X_full.drop('quality', axis = 1)\n",
    "X_part = df[['volatile acidity','citric acid','chlorides','free sulfur dioxide','sulphates','alcohol']].copy()\n",
    "y = df['quality']\n",
    "X_train_full, X_test_full, y_train_full, y_test_full = train_test_split(X_full,y,test_size = 0.30, random_state=42)\n",
    "X_train_part, X_test_part, y_train_part, y_test_part = train_test_split(X_part,y,test_size = 0.30, random_state=42)"
   ]
  },
  {
   "cell_type": "code",
   "execution_count": 9,
   "id": "874c9abc",
   "metadata": {},
   "outputs": [
    {
     "name": "stdout",
     "output_type": "stream",
     "text": [
      "Fitting 3 folds for each of 96 candidates, totalling 288 fits\n"
     ]
    },
    {
     "name": "stderr",
     "output_type": "stream",
     "text": [
      "/Users/chonge/opt/anaconda3/lib/python3.9/site-packages/sklearn/model_selection/_validation.py:378: FitFailedWarning: \n",
      "72 fits failed out of a total of 288.\n",
      "The score on these train-test partitions for these parameters will be set to nan.\n",
      "If these failures are not expected, you can try to debug them by setting error_score='raise'.\n",
      "\n",
      "Below are more details about the failures:\n",
      "--------------------------------------------------------------------------------\n",
      "72 fits failed with the following error:\n",
      "Traceback (most recent call last):\n",
      "  File \"/Users/chonge/opt/anaconda3/lib/python3.9/site-packages/sklearn/model_selection/_validation.py\", line 686, in _fit_and_score\n",
      "    estimator.fit(X_train, y_train, **fit_params)\n",
      "  File \"/Users/chonge/opt/anaconda3/lib/python3.9/site-packages/sklearn/ensemble/_forest.py\", line 476, in fit\n",
      "    trees = Parallel(\n",
      "  File \"/Users/chonge/opt/anaconda3/lib/python3.9/site-packages/joblib/parallel.py\", line 1085, in __call__\n",
      "    if self.dispatch_one_batch(iterator):\n",
      "  File \"/Users/chonge/opt/anaconda3/lib/python3.9/site-packages/joblib/parallel.py\", line 901, in dispatch_one_batch\n",
      "    self._dispatch(tasks)\n",
      "  File \"/Users/chonge/opt/anaconda3/lib/python3.9/site-packages/joblib/parallel.py\", line 819, in _dispatch\n",
      "    job = self._backend.apply_async(batch, callback=cb)\n",
      "  File \"/Users/chonge/opt/anaconda3/lib/python3.9/site-packages/joblib/_parallel_backends.py\", line 208, in apply_async\n",
      "    result = ImmediateResult(func)\n",
      "  File \"/Users/chonge/opt/anaconda3/lib/python3.9/site-packages/joblib/_parallel_backends.py\", line 597, in __init__\n",
      "    self.results = batch()\n",
      "  File \"/Users/chonge/opt/anaconda3/lib/python3.9/site-packages/joblib/parallel.py\", line 288, in __call__\n",
      "    return [func(*args, **kwargs)\n",
      "  File \"/Users/chonge/opt/anaconda3/lib/python3.9/site-packages/joblib/parallel.py\", line 288, in <listcomp>\n",
      "    return [func(*args, **kwargs)\n",
      "  File \"/Users/chonge/opt/anaconda3/lib/python3.9/site-packages/sklearn/utils/fixes.py\", line 117, in __call__\n",
      "    return self.function(*args, **kwargs)\n",
      "  File \"/Users/chonge/opt/anaconda3/lib/python3.9/site-packages/sklearn/ensemble/_forest.py\", line 189, in _parallel_build_trees\n",
      "    tree.fit(X, y, sample_weight=curr_sample_weight, check_input=False)\n",
      "  File \"/Users/chonge/opt/anaconda3/lib/python3.9/site-packages/sklearn/tree/_classes.py\", line 969, in fit\n",
      "    super().fit(\n",
      "  File \"/Users/chonge/opt/anaconda3/lib/python3.9/site-packages/sklearn/tree/_classes.py\", line 265, in fit\n",
      "    check_scalar(\n",
      "  File \"/Users/chonge/opt/anaconda3/lib/python3.9/site-packages/sklearn/utils/validation.py\", line 1480, in check_scalar\n",
      "    raise ValueError(\n",
      "ValueError: min_samples_split == 1, must be >= 2.\n",
      "\n",
      "  warnings.warn(some_fits_failed_message, FitFailedWarning)\n",
      "/Users/chonge/opt/anaconda3/lib/python3.9/site-packages/sklearn/model_selection/_search.py:953: UserWarning: One or more of the test scores are non-finite: [       nan        nan        nan 0.63806971 0.64164433 0.63896336\n",
      " 0.64789991 0.6461126  0.64700626 0.64253798 0.65236819 0.65683646\n",
      "        nan        nan        nan 0.64700626 0.64968722 0.64968722\n",
      " 0.64700626 0.64968722 0.64968722 0.64700626 0.64968722 0.64968722\n",
      "        nan        nan        nan 0.63360143 0.62466488 0.63538874\n",
      " 0.63360143 0.62466488 0.63538874 0.63360143 0.62466488 0.63538874\n",
      "        nan        nan        nan 0.63270777 0.63270777 0.63538874\n",
      " 0.63270777 0.63270777 0.63538874 0.63270777 0.63270777 0.63538874\n",
      "        nan        nan        nan 0.64879357 0.65058088 0.65147453\n",
      " 0.65326184 0.65058088 0.65147453 0.65058088 0.65236819 0.65147453\n",
      "        nan        nan        nan 0.63985702 0.64164433 0.64968722\n",
      " 0.63985702 0.64164433 0.64968722 0.63985702 0.64164433 0.64968722\n",
      "        nan        nan        nan 0.63092046 0.64343164 0.64253798\n",
      " 0.63092046 0.64343164 0.64253798 0.63092046 0.64343164 0.64253798\n",
      "        nan        nan        nan 0.63360143 0.63270777 0.63181412\n",
      " 0.63360143 0.63270777 0.63181412 0.63360143 0.63270777 0.63181412]\n",
      "  warnings.warn(\n"
     ]
    },
    {
     "data": {
      "text/plain": [
       "{'criterion': 'gini',\n",
       " 'min_samples_leaf': 1,\n",
       " 'min_samples_split': 4,\n",
       " 'n_estimators': 300}"
      ]
     },
     "execution_count": 9,
     "metadata": {},
     "output_type": "execute_result"
    }
   ],
   "source": [
    "param = {'criterion':['gini','entropy'],'n_estimators': range(100,400,100),'min_samples_split' : range(1,5,1),\n",
    "         'min_samples_leaf' : range(1,5,1)}\n",
    "clf = RandomForestClassifier(random_state = 42)\n",
    "grid = GridSearchCV(clf,param_grid = param, cv = 3, verbose = 2, n_jobs = -1)\n",
    "grid.fit(X_train_full, y_train_full)\n",
    "grid.best_params_"
   ]
  },
  {
   "cell_type": "code",
   "execution_count": 10,
   "id": "b859a4db",
   "metadata": {},
   "outputs": [
    {
     "data": {
      "text/plain": [
       "0.6666666666666666"
      ]
     },
     "execution_count": 10,
     "metadata": {},
     "output_type": "execute_result"
    },
    {
     "name": "stdout",
     "output_type": "stream",
     "text": [
      "[CV] END criterion=gini, min_samples_leaf=1, min_samples_split=1, n_estimators=200; total time=   0.1s\n",
      "[CV] END criterion=gini, min_samples_leaf=1, min_samples_split=2, n_estimators=200; total time=   0.5s\n",
      "[CV] END criterion=gini, min_samples_leaf=1, min_samples_split=3, n_estimators=200; total time=   0.5s\n",
      "[CV] END criterion=gini, min_samples_leaf=1, min_samples_split=4, n_estimators=200; total time=   0.5s\n",
      "[CV] END criterion=gini, min_samples_leaf=2, min_samples_split=1, n_estimators=200; total time=   0.1s\n",
      "[CV] END criterion=gini, min_samples_leaf=2, min_samples_split=1, n_estimators=300; total time=   0.1s\n",
      "[CV] END criterion=gini, min_samples_leaf=2, min_samples_split=2, n_estimators=100; total time=   0.2s\n",
      "[CV] END criterion=gini, min_samples_leaf=2, min_samples_split=2, n_estimators=300; total time=   0.7s\n",
      "[CV] END criterion=gini, min_samples_leaf=2, min_samples_split=3, n_estimators=300; total time=   0.6s\n",
      "[CV] END criterion=gini, min_samples_leaf=3, min_samples_split=1, n_estimators=300; total time=   0.1s\n",
      "[CV] END criterion=gini, min_samples_leaf=3, min_samples_split=2, n_estimators=200; total time=   0.4s\n",
      "[CV] END criterion=gini, min_samples_leaf=3, min_samples_split=3, n_estimators=100; total time=   0.2s\n",
      "[CV] END criterion=gini, min_samples_leaf=3, min_samples_split=3, n_estimators=300; total time=   0.7s\n",
      "[CV] END criterion=gini, min_samples_leaf=4, min_samples_split=1, n_estimators=100; total time=   0.0s\n",
      "[CV] END criterion=gini, min_samples_leaf=4, min_samples_split=1, n_estimators=200; total time=   0.1s\n",
      "[CV] END criterion=gini, min_samples_leaf=4, min_samples_split=1, n_estimators=200; total time=   0.1s\n",
      "[CV] END criterion=gini, min_samples_leaf=4, min_samples_split=1, n_estimators=300; total time=   0.1s\n",
      "[CV] END criterion=gini, min_samples_leaf=4, min_samples_split=2, n_estimators=200; total time=   0.4s\n",
      "[CV] END criterion=gini, min_samples_leaf=4, min_samples_split=3, n_estimators=100; total time=   0.2s\n",
      "[CV] END criterion=gini, min_samples_leaf=4, min_samples_split=3, n_estimators=300; total time=   0.7s\n",
      "[CV] END criterion=entropy, min_samples_leaf=1, min_samples_split=1, n_estimators=100; total time=   0.0s\n",
      "[CV] END criterion=entropy, min_samples_leaf=1, min_samples_split=1, n_estimators=200; total time=   0.1s\n",
      "[CV] END criterion=entropy, min_samples_leaf=1, min_samples_split=1, n_estimators=300; total time=   0.1s\n",
      "[CV] END criterion=entropy, min_samples_leaf=1, min_samples_split=2, n_estimators=200; total time=   0.6s\n",
      "[CV] END criterion=entropy, min_samples_leaf=1, min_samples_split=3, n_estimators=200; total time=   0.6s\n",
      "[CV] END criterion=entropy, min_samples_leaf=1, min_samples_split=4, n_estimators=100; total time=   0.3s\n",
      "[CV] END criterion=entropy, min_samples_leaf=1, min_samples_split=4, n_estimators=300; total time=   0.8s\n",
      "[CV] END criterion=entropy, min_samples_leaf=2, min_samples_split=2, n_estimators=300; total time=   0.9s\n",
      "[CV] END criterion=entropy, min_samples_leaf=2, min_samples_split=4, n_estimators=200; total time=   0.6s\n",
      "[CV] END criterion=entropy, min_samples_leaf=3, min_samples_split=1, n_estimators=100; total time=   0.0s\n",
      "[CV] END criterion=entropy, min_samples_leaf=3, min_samples_split=1, n_estimators=100; total time=   0.0s\n",
      "[CV] END criterion=entropy, min_samples_leaf=3, min_samples_split=1, n_estimators=200; total time=   0.1s\n",
      "[CV] END criterion=entropy, min_samples_leaf=3, min_samples_split=1, n_estimators=300; total time=   0.1s\n",
      "[CV] END criterion=entropy, min_samples_leaf=3, min_samples_split=2, n_estimators=100; total time=   0.3s\n",
      "[CV] END criterion=entropy, min_samples_leaf=3, min_samples_split=2, n_estimators=300; total time=   0.8s\n",
      "[CV] END criterion=entropy, min_samples_leaf=3, min_samples_split=3, n_estimators=300; total time=   0.8s\n",
      "[CV] END criterion=entropy, min_samples_leaf=4, min_samples_split=2, n_estimators=200; total time=   0.5s\n",
      "[CV] END criterion=entropy, min_samples_leaf=4, min_samples_split=3, n_estimators=100; total time=   0.3s\n",
      "[CV] END criterion=entropy, min_samples_leaf=4, min_samples_split=3, n_estimators=300; total time=   0.7s\n",
      "[CV] END criterion=gini, min_samples_leaf=1, min_samples_split=1, n_estimators=300; total time=   0.1s\n",
      "[CV] END criterion=gini, min_samples_leaf=1, min_samples_split=2, n_estimators=300; total time=   0.7s\n",
      "[CV] END criterion=gini, min_samples_leaf=1, min_samples_split=3, n_estimators=300; total time=   0.7s\n",
      "[CV] END criterion=gini, min_samples_leaf=2, min_samples_split=2, n_estimators=100; total time=   0.2s\n",
      "[CV] END criterion=gini, min_samples_leaf=2, min_samples_split=2, n_estimators=200; total time=   0.4s\n",
      "[CV] END criterion=gini, min_samples_leaf=2, min_samples_split=3, n_estimators=300; total time=   0.7s\n",
      "[CV] END criterion=gini, min_samples_leaf=2, min_samples_split=4, n_estimators=300; total time=   0.6s\n",
      "[CV] END criterion=gini, min_samples_leaf=3, min_samples_split=3, n_estimators=100; total time=   0.2s\n",
      "[CV] END criterion=gini, min_samples_leaf=3, min_samples_split=3, n_estimators=200; total time=   0.5s\n",
      "[CV] END criterion=gini, min_samples_leaf=3, min_samples_split=4, n_estimators=200; total time=   0.5s\n",
      "[CV] END criterion=gini, min_samples_leaf=4, min_samples_split=1, n_estimators=300; total time=   0.1s\n",
      "[CV] END criterion=gini, min_samples_leaf=4, min_samples_split=2, n_estimators=200; total time=   0.4s\n",
      "[CV] END criterion=gini, min_samples_leaf=4, min_samples_split=3, n_estimators=200; total time=   0.4s\n",
      "[CV] END criterion=gini, min_samples_leaf=4, min_samples_split=4, n_estimators=100; total time=   0.2s\n",
      "[CV] END criterion=gini, min_samples_leaf=4, min_samples_split=4, n_estimators=300; total time=   0.6s\n",
      "[CV] END criterion=entropy, min_samples_leaf=1, min_samples_split=2, n_estimators=300; total time=   0.8s\n",
      "[CV] END criterion=entropy, min_samples_leaf=1, min_samples_split=3, n_estimators=300; total time=   0.9s\n",
      "[CV] END criterion=entropy, min_samples_leaf=2, min_samples_split=2, n_estimators=100; total time=   0.3s\n",
      "[CV] END criterion=entropy, min_samples_leaf=2, min_samples_split=2, n_estimators=200; total time=   0.6s\n",
      "[CV] END criterion=entropy, min_samples_leaf=2, min_samples_split=3, n_estimators=300; total time=   0.8s\n",
      "[CV] END criterion=entropy, min_samples_leaf=2, min_samples_split=4, n_estimators=300; total time=   0.9s\n",
      "[CV] END criterion=entropy, min_samples_leaf=3, min_samples_split=3, n_estimators=100; total time=   0.2s\n",
      "[CV] END criterion=entropy, min_samples_leaf=3, min_samples_split=3, n_estimators=200; total time=   0.5s\n",
      "[CV] END criterion=entropy, min_samples_leaf=3, min_samples_split=4, n_estimators=200; total time=   0.5s\n",
      "[CV] END criterion=entropy, min_samples_leaf=4, min_samples_split=1, n_estimators=300; total time=   0.1s\n",
      "[CV] END criterion=entropy, min_samples_leaf=4, min_samples_split=2, n_estimators=200; total time=   0.5s\n",
      "[CV] END criterion=entropy, min_samples_leaf=4, min_samples_split=3, n_estimators=200; total time=   0.5s\n",
      "[CV] END criterion=entropy, min_samples_leaf=4, min_samples_split=4, n_estimators=200; total time=   0.5s\n",
      "[CV] END criterion=gini, min_samples_leaf=1, min_samples_split=1, n_estimators=100; total time=   0.0s\n",
      "[CV] END criterion=gini, min_samples_leaf=1, min_samples_split=1, n_estimators=300; total time=   0.1s\n",
      "[CV] END criterion=gini, min_samples_leaf=1, min_samples_split=2, n_estimators=200; total time=   0.5s\n",
      "[CV] END criterion=gini, min_samples_leaf=1, min_samples_split=3, n_estimators=200; total time=   0.5s\n",
      "[CV] END criterion=gini, min_samples_leaf=1, min_samples_split=4, n_estimators=200; total time=   0.5s\n",
      "[CV] END criterion=gini, min_samples_leaf=2, min_samples_split=1, n_estimators=100; total time=   0.0s\n",
      "[CV] END criterion=gini, min_samples_leaf=2, min_samples_split=1, n_estimators=200; total time=   0.1s\n",
      "[CV] END criterion=gini, min_samples_leaf=2, min_samples_split=1, n_estimators=300; total time=   0.1s\n",
      "[CV] END criterion=gini, min_samples_leaf=2, min_samples_split=2, n_estimators=200; total time=   0.4s\n",
      "[CV] END criterion=gini, min_samples_leaf=2, min_samples_split=3, n_estimators=200; total time=   0.5s\n",
      "[CV] END criterion=gini, min_samples_leaf=2, min_samples_split=4, n_estimators=100; total time=   0.2s\n",
      "[CV] END criterion=gini, min_samples_leaf=2, min_samples_split=4, n_estimators=300; total time=   0.7s\n",
      "[CV] END criterion=gini, min_samples_leaf=3, min_samples_split=2, n_estimators=300; total time=   0.6s\n",
      "[CV] END criterion=gini, min_samples_leaf=3, min_samples_split=4, n_estimators=100; total time=   0.2s\n",
      "[CV] END criterion=gini, min_samples_leaf=3, min_samples_split=4, n_estimators=200; total time=   0.5s\n",
      "[CV] END criterion=gini, min_samples_leaf=4, min_samples_split=2, n_estimators=100; total time=   0.2s\n",
      "[CV] END criterion=gini, min_samples_leaf=4, min_samples_split=3, n_estimators=100; total time=   0.2s\n",
      "[CV] END criterion=gini, min_samples_leaf=4, min_samples_split=3, n_estimators=200; total time=   0.4s\n",
      "[CV] END criterion=gini, min_samples_leaf=4, min_samples_split=4, n_estimators=100; total time=   0.2s\n",
      "[CV] END criterion=gini, min_samples_leaf=4, min_samples_split=4, n_estimators=300; total time=   0.6s\n",
      "[CV] END criterion=entropy, min_samples_leaf=1, min_samples_split=2, n_estimators=200; total time=   0.6s\n",
      "[CV] END criterion=entropy, min_samples_leaf=1, min_samples_split=3, n_estimators=300; total time=   0.8s\n",
      "[CV] END criterion=entropy, min_samples_leaf=1, min_samples_split=4, n_estimators=300; total time=   0.9s\n",
      "[CV] END criterion=entropy, min_samples_leaf=2, min_samples_split=3, n_estimators=100; total time=   0.3s\n",
      "[CV] END criterion=entropy, min_samples_leaf=2, min_samples_split=3, n_estimators=200; total time=   0.6s\n",
      "[CV] END criterion=entropy, min_samples_leaf=2, min_samples_split=4, n_estimators=200; total time=   0.6s\n",
      "[CV] END criterion=entropy, min_samples_leaf=3, min_samples_split=1, n_estimators=200; total time=   0.1s\n",
      "[CV] END criterion=entropy, min_samples_leaf=3, min_samples_split=2, n_estimators=100; total time=   0.3s\n",
      "[CV] END criterion=entropy, min_samples_leaf=3, min_samples_split=2, n_estimators=200; total time=   0.5s\n",
      "[CV] END criterion=entropy, min_samples_leaf=3, min_samples_split=3, n_estimators=300; total time=   0.8s\n",
      "[CV] END criterion=entropy, min_samples_leaf=3, min_samples_split=4, n_estimators=300; total time=   0.8s\n",
      "[CV] END criterion=entropy, min_samples_leaf=4, min_samples_split=3, n_estimators=100; total time=   0.2s\n",
      "[CV] END criterion=entropy, min_samples_leaf=4, min_samples_split=3, n_estimators=200; total time=   0.5s\n",
      "[CV] END criterion=entropy, min_samples_leaf=4, min_samples_split=4, n_estimators=200; total time=   0.5s\n",
      "[CV] END criterion=gini, min_samples_leaf=1, min_samples_split=1, n_estimators=100; total time=   0.0s\n",
      "[CV] END criterion=gini, min_samples_leaf=1, min_samples_split=2, n_estimators=100; total time=   0.2s\n",
      "[CV] END criterion=gini, min_samples_leaf=1, min_samples_split=3, n_estimators=100; total time=   0.3s\n",
      "[CV] END criterion=gini, min_samples_leaf=1, min_samples_split=3, n_estimators=200; total time=   0.5s\n",
      "[CV] END criterion=gini, min_samples_leaf=1, min_samples_split=4, n_estimators=100; total time=   0.3s\n",
      "[CV] END criterion=gini, min_samples_leaf=1, min_samples_split=4, n_estimators=300; total time=   0.7s\n",
      "[CV] END criterion=gini, min_samples_leaf=2, min_samples_split=3, n_estimators=100; total time=   0.3s\n",
      "[CV] END criterion=gini, min_samples_leaf=2, min_samples_split=3, n_estimators=200; total time=   0.4s\n",
      "[CV] END criterion=gini, min_samples_leaf=2, min_samples_split=4, n_estimators=200; total time=   0.4s\n",
      "[CV] END criterion=gini, min_samples_leaf=3, min_samples_split=1, n_estimators=100; total time=   0.0s\n",
      "[CV] END criterion=gini, min_samples_leaf=3, min_samples_split=1, n_estimators=200; total time=   0.1s\n",
      "[CV] END criterion=gini, min_samples_leaf=3, min_samples_split=1, n_estimators=300; total time=   0.1s\n",
      "[CV] END criterion=gini, min_samples_leaf=3, min_samples_split=2, n_estimators=100; total time=   0.2s\n",
      "[CV] END criterion=gini, min_samples_leaf=3, min_samples_split=3, n_estimators=100; total time=   0.2s\n",
      "[CV] END criterion=gini, min_samples_leaf=3, min_samples_split=3, n_estimators=200; total time=   0.4s\n",
      "[CV] END criterion=gini, min_samples_leaf=3, min_samples_split=4, n_estimators=200; total time=   0.5s\n",
      "[CV] END criterion=gini, min_samples_leaf=4, min_samples_split=1, n_estimators=100; total time=   0.0s\n",
      "[CV] END criterion=gini, min_samples_leaf=4, min_samples_split=1, n_estimators=100; total time=   0.0s\n",
      "[CV] END criterion=gini, min_samples_leaf=4, min_samples_split=1, n_estimators=200; total time=   0.0s\n",
      "[CV] END criterion=gini, min_samples_leaf=4, min_samples_split=1, n_estimators=300; total time=   0.1s\n",
      "[CV] END criterion=gini, min_samples_leaf=4, min_samples_split=2, n_estimators=100; total time=   0.2s\n",
      "[CV] END criterion=gini, min_samples_leaf=4, min_samples_split=2, n_estimators=200; total time=   0.4s\n",
      "[CV] END criterion=gini, min_samples_leaf=4, min_samples_split=3, n_estimators=300; total time=   0.6s\n",
      "[CV] END criterion=gini, min_samples_leaf=4, min_samples_split=4, n_estimators=300; total time=   0.6s\n",
      "[CV] END criterion=entropy, min_samples_leaf=1, min_samples_split=3, n_estimators=100; total time=   0.3s\n",
      "[CV] END criterion=entropy, min_samples_leaf=1, min_samples_split=3, n_estimators=200; total time=   0.6s\n",
      "[CV] END criterion=entropy, min_samples_leaf=1, min_samples_split=4, n_estimators=200; total time=   0.6s\n",
      "[CV] END criterion=entropy, min_samples_leaf=2, min_samples_split=1, n_estimators=300; total time=   0.1s\n",
      "[CV] END criterion=entropy, min_samples_leaf=2, min_samples_split=2, n_estimators=100; total time=   0.3s\n",
      "[CV] END criterion=entropy, min_samples_leaf=2, min_samples_split=2, n_estimators=300; total time=   0.8s\n",
      "[CV] END criterion=entropy, min_samples_leaf=2, min_samples_split=3, n_estimators=300; total time=   0.9s\n",
      "[CV] END criterion=entropy, min_samples_leaf=3, min_samples_split=1, n_estimators=300; total time=   0.1s\n",
      "[CV] END criterion=entropy, min_samples_leaf=3, min_samples_split=2, n_estimators=200; total time=   0.5s\n",
      "[CV] END criterion=entropy, min_samples_leaf=3, min_samples_split=3, n_estimators=200; total time=   0.5s\n",
      "[CV] END criterion=entropy, min_samples_leaf=3, min_samples_split=4, n_estimators=100; total time=   0.2s\n",
      "[CV] END criterion=entropy, min_samples_leaf=3, min_samples_split=4, n_estimators=300; total time=   0.8s\n",
      "[CV] END criterion=entropy, min_samples_leaf=4, min_samples_split=2, n_estimators=300; total time=   0.7s\n",
      "[CV] END criterion=entropy, min_samples_leaf=4, min_samples_split=4, n_estimators=100; total time=   0.2s\n",
      "[CV] END criterion=entropy, min_samples_leaf=4, min_samples_split=4, n_estimators=200; total time=   0.5s\n"
     ]
    },
    {
     "name": "stdout",
     "output_type": "stream",
     "text": [
      "[CV] END criterion=gini, min_samples_leaf=1, min_samples_split=1, n_estimators=300; total time=   0.1s\n",
      "[CV] END criterion=gini, min_samples_leaf=1, min_samples_split=2, n_estimators=300; total time=   0.8s\n",
      "[CV] END criterion=gini, min_samples_leaf=1, min_samples_split=4, n_estimators=100; total time=   0.2s\n",
      "[CV] END criterion=gini, min_samples_leaf=1, min_samples_split=4, n_estimators=200; total time=   0.5s\n",
      "[CV] END criterion=gini, min_samples_leaf=2, min_samples_split=2, n_estimators=200; total time=   0.5s\n",
      "[CV] END criterion=gini, min_samples_leaf=2, min_samples_split=3, n_estimators=100; total time=   0.2s\n",
      "[CV] END criterion=gini, min_samples_leaf=2, min_samples_split=3, n_estimators=300; total time=   0.7s\n",
      "[CV] END criterion=gini, min_samples_leaf=3, min_samples_split=1, n_estimators=100; total time=   0.0s\n",
      "[CV] END criterion=gini, min_samples_leaf=3, min_samples_split=1, n_estimators=100; total time=   0.0s\n",
      "[CV] END criterion=gini, min_samples_leaf=3, min_samples_split=1, n_estimators=200; total time=   0.1s\n",
      "[CV] END criterion=gini, min_samples_leaf=3, min_samples_split=1, n_estimators=300; total time=   0.1s\n",
      "[CV] END criterion=gini, min_samples_leaf=3, min_samples_split=2, n_estimators=200; total time=   0.4s\n",
      "[CV] END criterion=gini, min_samples_leaf=3, min_samples_split=3, n_estimators=200; total time=   0.4s\n",
      "[CV] END criterion=gini, min_samples_leaf=3, min_samples_split=4, n_estimators=100; total time=   0.2s\n",
      "[CV] END criterion=gini, min_samples_leaf=3, min_samples_split=4, n_estimators=300; total time=   0.7s\n",
      "[CV] END criterion=gini, min_samples_leaf=4, min_samples_split=2, n_estimators=300; total time=   0.6s\n",
      "[CV] END criterion=gini, min_samples_leaf=4, min_samples_split=4, n_estimators=200; total time=   0.4s\n",
      "[CV] END criterion=entropy, min_samples_leaf=1, min_samples_split=1, n_estimators=100; total time=   0.0s\n",
      "[CV] END criterion=entropy, min_samples_leaf=1, min_samples_split=1, n_estimators=200; total time=   0.1s\n",
      "[CV] END criterion=entropy, min_samples_leaf=1, min_samples_split=1, n_estimators=300; total time=   0.1s\n",
      "[CV] END criterion=entropy, min_samples_leaf=1, min_samples_split=2, n_estimators=200; total time=   0.5s\n",
      "[CV] END criterion=entropy, min_samples_leaf=1, min_samples_split=3, n_estimators=100; total time=   0.3s\n",
      "[CV] END criterion=entropy, min_samples_leaf=1, min_samples_split=3, n_estimators=300; total time=   0.9s\n",
      "[CV] END criterion=entropy, min_samples_leaf=2, min_samples_split=1, n_estimators=100; total time=   0.0s\n",
      "[CV] END criterion=entropy, min_samples_leaf=2, min_samples_split=1, n_estimators=100; total time=   0.0s\n",
      "[CV] END criterion=entropy, min_samples_leaf=2, min_samples_split=1, n_estimators=200; total time=   0.1s\n",
      "[CV] END criterion=entropy, min_samples_leaf=2, min_samples_split=1, n_estimators=300; total time=   0.1s\n",
      "[CV] END criterion=entropy, min_samples_leaf=2, min_samples_split=2, n_estimators=100; total time=   0.3s\n",
      "[CV] END criterion=entropy, min_samples_leaf=2, min_samples_split=2, n_estimators=300; total time=   0.8s\n",
      "[CV] END criterion=entropy, min_samples_leaf=2, min_samples_split=4, n_estimators=100; total time=   0.3s\n",
      "[CV] END criterion=entropy, min_samples_leaf=2, min_samples_split=4, n_estimators=200; total time=   0.6s\n",
      "[CV] END criterion=entropy, min_samples_leaf=3, min_samples_split=2, n_estimators=200; total time=   0.5s\n",
      "[CV] END criterion=entropy, min_samples_leaf=3, min_samples_split=3, n_estimators=100; total time=   0.2s\n",
      "[CV] END criterion=entropy, min_samples_leaf=3, min_samples_split=3, n_estimators=300; total time=   0.8s\n",
      "[CV] END criterion=entropy, min_samples_leaf=4, min_samples_split=1, n_estimators=100; total time=   0.0s\n",
      "[CV] END criterion=entropy, min_samples_leaf=4, min_samples_split=1, n_estimators=100; total time=   0.0s\n",
      "[CV] END criterion=entropy, min_samples_leaf=4, min_samples_split=1, n_estimators=100; total time=   0.0s\n",
      "[CV] END criterion=entropy, min_samples_leaf=4, min_samples_split=1, n_estimators=200; total time=   0.1s\n",
      "[CV] END criterion=entropy, min_samples_leaf=4, min_samples_split=1, n_estimators=300; total time=   0.1s\n",
      "[CV] END criterion=entropy, min_samples_leaf=4, min_samples_split=2, n_estimators=100; total time=   0.3s\n",
      "[CV] END criterion=entropy, min_samples_leaf=4, min_samples_split=2, n_estimators=300; total time=   0.8s\n",
      "[CV] END criterion=entropy, min_samples_leaf=4, min_samples_split=3, n_estimators=300; total time=   0.7s\n",
      "[CV] END criterion=gini, min_samples_leaf=1, min_samples_split=1, n_estimators=200; total time=   0.1s\n",
      "[CV] END criterion=gini, min_samples_leaf=1, min_samples_split=2, n_estimators=200; total time=   0.5s\n",
      "[CV] END criterion=gini, min_samples_leaf=1, min_samples_split=3, n_estimators=300; total time=   0.7s\n",
      "[CV] END criterion=gini, min_samples_leaf=1, min_samples_split=4, n_estimators=300; total time=   0.7s\n",
      "[CV] END criterion=gini, min_samples_leaf=2, min_samples_split=3, n_estimators=100; total time=   0.2s\n",
      "[CV] END criterion=gini, min_samples_leaf=2, min_samples_split=3, n_estimators=200; total time=   0.5s\n",
      "[CV] END criterion=gini, min_samples_leaf=2, min_samples_split=4, n_estimators=200; total time=   0.4s\n",
      "[CV] END criterion=gini, min_samples_leaf=3, min_samples_split=1, n_estimators=200; total time=   0.1s\n",
      "[CV] END criterion=gini, min_samples_leaf=3, min_samples_split=2, n_estimators=100; total time=   0.2s\n",
      "[CV] END criterion=gini, min_samples_leaf=3, min_samples_split=2, n_estimators=200; total time=   0.4s\n",
      "[CV] END criterion=gini, min_samples_leaf=3, min_samples_split=3, n_estimators=300; total time=   0.7s\n",
      "[CV] END criterion=gini, min_samples_leaf=3, min_samples_split=4, n_estimators=300; total time=   0.6s\n",
      "[CV] END criterion=gini, min_samples_leaf=4, min_samples_split=3, n_estimators=100; total time=   0.2s\n",
      "[CV] END criterion=gini, min_samples_leaf=4, min_samples_split=3, n_estimators=200; total time=   0.4s\n",
      "[CV] END criterion=gini, min_samples_leaf=4, min_samples_split=4, n_estimators=200; total time=   0.4s\n",
      "[CV] END criterion=entropy, min_samples_leaf=1, min_samples_split=1, n_estimators=100; total time=   0.0s\n",
      "[CV] END criterion=entropy, min_samples_leaf=1, min_samples_split=1, n_estimators=200; total time=   0.1s\n",
      "[CV] END criterion=entropy, min_samples_leaf=1, min_samples_split=2, n_estimators=100; total time=   0.3s\n",
      "[CV] END criterion=entropy, min_samples_leaf=1, min_samples_split=2, n_estimators=300; total time=   0.9s\n",
      "[CV] END criterion=entropy, min_samples_leaf=1, min_samples_split=4, n_estimators=100; total time=   0.3s\n",
      "[CV] END criterion=entropy, min_samples_leaf=1, min_samples_split=4, n_estimators=200; total time=   0.6s\n",
      "[CV] END criterion=entropy, min_samples_leaf=2, min_samples_split=2, n_estimators=200; total time=   0.6s\n",
      "[CV] END criterion=entropy, min_samples_leaf=2, min_samples_split=3, n_estimators=200; total time=   0.5s\n",
      "[CV] END criterion=entropy, min_samples_leaf=2, min_samples_split=4, n_estimators=100; total time=   0.3s\n",
      "[CV] END criterion=entropy, min_samples_leaf=2, min_samples_split=4, n_estimators=300; total time=   0.8s\n",
      "[CV] END criterion=entropy, min_samples_leaf=3, min_samples_split=3, n_estimators=100; total time=   0.3s\n",
      "[CV] END criterion=entropy, min_samples_leaf=3, min_samples_split=3, n_estimators=200; total time=   0.5s\n",
      "[CV] END criterion=entropy, min_samples_leaf=3, min_samples_split=4, n_estimators=200; total time=   0.5s\n",
      "[CV] END criterion=entropy, min_samples_leaf=4, min_samples_split=1, n_estimators=200; total time=   0.1s\n",
      "[CV] END criterion=entropy, min_samples_leaf=4, min_samples_split=1, n_estimators=200; total time=   0.1s\n",
      "[CV] END criterion=entropy, min_samples_leaf=4, min_samples_split=1, n_estimators=300; total time=   0.1s\n",
      "[CV] END criterion=entropy, min_samples_leaf=4, min_samples_split=2, n_estimators=100; total time=   0.3s\n",
      "[CV] END criterion=entropy, min_samples_leaf=4, min_samples_split=2, n_estimators=300; total time=   0.7s\n",
      "[CV] END criterion=entropy, min_samples_leaf=4, min_samples_split=4, n_estimators=100; total time=   0.2s\n",
      "[CV] END criterion=entropy, min_samples_leaf=4, min_samples_split=4, n_estimators=300; total time=   0.6s\n",
      "[CV] END criterion=gini, min_samples_leaf=1, min_samples_split=1, n_estimators=100; total time=   0.0s\n",
      "[CV] END criterion=gini, min_samples_leaf=1, min_samples_split=2, n_estimators=100; total time=   0.3s\n",
      "[CV] END criterion=gini, min_samples_leaf=1, min_samples_split=2, n_estimators=300; total time=   0.7s\n",
      "[CV] END criterion=gini, min_samples_leaf=1, min_samples_split=4, n_estimators=100; total time=   0.2s\n",
      "[CV] END criterion=gini, min_samples_leaf=1, min_samples_split=4, n_estimators=300; total time=   0.7s\n",
      "[CV] END criterion=gini, min_samples_leaf=2, min_samples_split=2, n_estimators=300; total time=   0.7s\n",
      "[CV] END criterion=gini, min_samples_leaf=2, min_samples_split=4, n_estimators=100; total time=   0.2s\n",
      "[CV] END criterion=gini, min_samples_leaf=2, min_samples_split=4, n_estimators=300; total time=   0.6s\n",
      "[CV] END criterion=gini, min_samples_leaf=3, min_samples_split=2, n_estimators=300; total time=   0.6s\n",
      "[CV] END criterion=gini, min_samples_leaf=3, min_samples_split=3, n_estimators=300; total time=   0.8s\n",
      "[CV] END criterion=gini, min_samples_leaf=4, min_samples_split=2, n_estimators=100; total time=   0.2s\n",
      "[CV] END criterion=gini, min_samples_leaf=4, min_samples_split=2, n_estimators=300; total time=   0.6s\n",
      "[CV] END criterion=gini, min_samples_leaf=4, min_samples_split=4, n_estimators=100; total time=   0.2s\n",
      "[CV] END criterion=gini, min_samples_leaf=4, min_samples_split=4, n_estimators=200; total time=   0.4s\n",
      "[CV] END criterion=entropy, min_samples_leaf=1, min_samples_split=2, n_estimators=100; total time=   0.3s\n",
      "[CV] END criterion=entropy, min_samples_leaf=1, min_samples_split=3, n_estimators=100; total time=   0.3s\n",
      "[CV] END criterion=entropy, min_samples_leaf=1, min_samples_split=3, n_estimators=200; total time=   0.6s\n",
      "[CV] END criterion=entropy, min_samples_leaf=1, min_samples_split=4, n_estimators=100; total time=   0.3s\n",
      "[CV] END criterion=entropy, min_samples_leaf=1, min_samples_split=4, n_estimators=300; total time=   0.9s\n",
      "[CV] END criterion=entropy, min_samples_leaf=2, min_samples_split=3, n_estimators=100; total time=   0.3s\n",
      "[CV] END criterion=entropy, min_samples_leaf=2, min_samples_split=3, n_estimators=200; total time=   0.5s\n",
      "[CV] END criterion=entropy, min_samples_leaf=2, min_samples_split=4, n_estimators=100; total time=   0.3s\n",
      "[CV] END criterion=entropy, min_samples_leaf=2, min_samples_split=4, n_estimators=300; total time=   0.8s\n",
      "[CV] END criterion=entropy, min_samples_leaf=3, min_samples_split=2, n_estimators=300; total time=   0.8s\n",
      "[CV] END criterion=entropy, min_samples_leaf=3, min_samples_split=4, n_estimators=100; total time=   0.3s\n",
      "[CV] END criterion=entropy, min_samples_leaf=3, min_samples_split=4, n_estimators=300; total time=   0.8s\n",
      "[CV] END criterion=entropy, min_samples_leaf=4, min_samples_split=3, n_estimators=100; total time=   0.2s\n",
      "[CV] END criterion=entropy, min_samples_leaf=4, min_samples_split=3, n_estimators=200; total time=   0.5s\n",
      "[CV] END criterion=entropy, min_samples_leaf=4, min_samples_split=4, n_estimators=100; total time=   0.3s\n",
      "[CV] END criterion=entropy, min_samples_leaf=4, min_samples_split=4, n_estimators=300; total time=   0.6s\n"
     ]
    },
    {
     "name": "stdout",
     "output_type": "stream",
     "text": [
      "[CV] END criterion=gini, min_samples_leaf=1, min_samples_split=1, n_estimators=200; total time=   0.1s\n",
      "[CV] END criterion=gini, min_samples_leaf=1, min_samples_split=2, n_estimators=100; total time=   0.2s\n",
      "[CV] END criterion=gini, min_samples_leaf=1, min_samples_split=3, n_estimators=100; total time=   0.2s\n",
      "[CV] END criterion=gini, min_samples_leaf=1, min_samples_split=3, n_estimators=100; total time=   0.2s\n",
      "[CV] END criterion=gini, min_samples_leaf=1, min_samples_split=3, n_estimators=300; total time=   0.7s\n",
      "[CV] END criterion=gini, min_samples_leaf=2, min_samples_split=1, n_estimators=100; total time=   0.0s\n",
      "[CV] END criterion=gini, min_samples_leaf=2, min_samples_split=1, n_estimators=100; total time=   0.0s\n",
      "[CV] END criterion=gini, min_samples_leaf=2, min_samples_split=1, n_estimators=200; total time=   0.1s\n",
      "[CV] END criterion=gini, min_samples_leaf=2, min_samples_split=1, n_estimators=300; total time=   0.1s\n",
      "[CV] END criterion=gini, min_samples_leaf=2, min_samples_split=2, n_estimators=100; total time=   0.2s\n",
      "[CV] END criterion=gini, min_samples_leaf=2, min_samples_split=2, n_estimators=300; total time=   0.7s\n",
      "[CV] END criterion=gini, min_samples_leaf=2, min_samples_split=4, n_estimators=100; total time=   0.2s\n",
      "[CV] END criterion=gini, min_samples_leaf=2, min_samples_split=4, n_estimators=200; total time=   0.4s\n",
      "[CV] END criterion=gini, min_samples_leaf=3, min_samples_split=2, n_estimators=100; total time=   0.2s\n",
      "[CV] END criterion=gini, min_samples_leaf=3, min_samples_split=2, n_estimators=300; total time=   0.6s\n",
      "[CV] END criterion=gini, min_samples_leaf=3, min_samples_split=4, n_estimators=100; total time=   0.2s\n",
      "[CV] END criterion=gini, min_samples_leaf=3, min_samples_split=4, n_estimators=300; total time=   0.7s\n",
      "[CV] END criterion=gini, min_samples_leaf=4, min_samples_split=2, n_estimators=300; total time=   0.6s\n",
      "[CV] END criterion=gini, min_samples_leaf=4, min_samples_split=3, n_estimators=300; total time=   0.6s\n",
      "[CV] END criterion=entropy, min_samples_leaf=1, min_samples_split=1, n_estimators=300; total time=   0.1s\n",
      "[CV] END criterion=entropy, min_samples_leaf=1, min_samples_split=2, n_estimators=100; total time=   0.3s\n",
      "[CV] END criterion=entropy, min_samples_leaf=1, min_samples_split=2, n_estimators=300; total time=   0.9s\n",
      "[CV] END criterion=entropy, min_samples_leaf=1, min_samples_split=4, n_estimators=200; total time=   0.5s\n",
      "[CV] END criterion=entropy, min_samples_leaf=2, min_samples_split=1, n_estimators=100; total time=   0.0s\n",
      "[CV] END criterion=entropy, min_samples_leaf=2, min_samples_split=1, n_estimators=200; total time=   0.1s\n",
      "[CV] END criterion=entropy, min_samples_leaf=2, min_samples_split=1, n_estimators=200; total time=   0.1s\n",
      "[CV] END criterion=entropy, min_samples_leaf=2, min_samples_split=1, n_estimators=300; total time=   0.1s\n",
      "[CV] END criterion=entropy, min_samples_leaf=2, min_samples_split=2, n_estimators=200; total time=   0.6s\n",
      "[CV] END criterion=entropy, min_samples_leaf=2, min_samples_split=3, n_estimators=100; total time=   0.3s\n",
      "[CV] END criterion=entropy, min_samples_leaf=2, min_samples_split=3, n_estimators=300; total time=   0.9s\n",
      "[CV] END criterion=entropy, min_samples_leaf=3, min_samples_split=1, n_estimators=100; total time=   0.0s\n",
      "[CV] END criterion=entropy, min_samples_leaf=3, min_samples_split=1, n_estimators=200; total time=   0.1s\n",
      "[CV] END criterion=entropy, min_samples_leaf=3, min_samples_split=1, n_estimators=300; total time=   0.1s\n",
      "[CV] END criterion=entropy, min_samples_leaf=3, min_samples_split=2, n_estimators=100; total time=   0.3s\n",
      "[CV] END criterion=entropy, min_samples_leaf=3, min_samples_split=2, n_estimators=300; total time=   0.8s\n",
      "[CV] END criterion=entropy, min_samples_leaf=3, min_samples_split=4, n_estimators=100; total time=   0.2s\n",
      "[CV] END criterion=entropy, min_samples_leaf=3, min_samples_split=4, n_estimators=200; total time=   0.5s\n",
      "[CV] END criterion=entropy, min_samples_leaf=4, min_samples_split=2, n_estimators=100; total time=   0.3s\n",
      "[CV] END criterion=entropy, min_samples_leaf=4, min_samples_split=2, n_estimators=200; total time=   0.5s\n",
      "[CV] END criterion=entropy, min_samples_leaf=4, min_samples_split=3, n_estimators=300; total time=   0.8s\n",
      "[CV] END criterion=entropy, min_samples_leaf=4, min_samples_split=4, n_estimators=300; total time=   0.5s\n"
     ]
    }
   ],
   "source": [
    "clf = RandomForestClassifier(criterion = 'gini',n_estimators = 300, min_samples_split = 4, min_samples_leaf = 1, random_state = 42)\n",
    "clf.fit(X_train_full, y_train_full)\n",
    "clf.score(X_test_full, y_test_full)"
   ]
  },
  {
   "cell_type": "code",
   "execution_count": 15,
   "id": "83974ce1",
   "metadata": {},
   "outputs": [
    {
     "name": "stdout",
     "output_type": "stream",
     "text": [
      "Fitting 3 folds for each of 96 candidates, totalling 288 fits\n"
     ]
    },
    {
     "name": "stderr",
     "output_type": "stream",
     "text": [
      "/Users/chonge/opt/anaconda3/lib/python3.9/site-packages/sklearn/model_selection/_validation.py:378: FitFailedWarning: \n",
      "72 fits failed out of a total of 288.\n",
      "The score on these train-test partitions for these parameters will be set to nan.\n",
      "If these failures are not expected, you can try to debug them by setting error_score='raise'.\n",
      "\n",
      "Below are more details about the failures:\n",
      "--------------------------------------------------------------------------------\n",
      "72 fits failed with the following error:\n",
      "Traceback (most recent call last):\n",
      "  File \"/Users/chonge/opt/anaconda3/lib/python3.9/site-packages/sklearn/model_selection/_validation.py\", line 686, in _fit_and_score\n",
      "    estimator.fit(X_train, y_train, **fit_params)\n",
      "  File \"/Users/chonge/opt/anaconda3/lib/python3.9/site-packages/sklearn/ensemble/_forest.py\", line 476, in fit\n",
      "    trees = Parallel(\n",
      "  File \"/Users/chonge/opt/anaconda3/lib/python3.9/site-packages/joblib/parallel.py\", line 1085, in __call__\n",
      "    if self.dispatch_one_batch(iterator):\n",
      "  File \"/Users/chonge/opt/anaconda3/lib/python3.9/site-packages/joblib/parallel.py\", line 901, in dispatch_one_batch\n",
      "    self._dispatch(tasks)\n",
      "  File \"/Users/chonge/opt/anaconda3/lib/python3.9/site-packages/joblib/parallel.py\", line 819, in _dispatch\n",
      "    job = self._backend.apply_async(batch, callback=cb)\n",
      "  File \"/Users/chonge/opt/anaconda3/lib/python3.9/site-packages/joblib/_parallel_backends.py\", line 208, in apply_async\n",
      "    result = ImmediateResult(func)\n",
      "  File \"/Users/chonge/opt/anaconda3/lib/python3.9/site-packages/joblib/_parallel_backends.py\", line 597, in __init__\n",
      "    self.results = batch()\n",
      "  File \"/Users/chonge/opt/anaconda3/lib/python3.9/site-packages/joblib/parallel.py\", line 288, in __call__\n",
      "    return [func(*args, **kwargs)\n",
      "  File \"/Users/chonge/opt/anaconda3/lib/python3.9/site-packages/joblib/parallel.py\", line 288, in <listcomp>\n",
      "    return [func(*args, **kwargs)\n",
      "  File \"/Users/chonge/opt/anaconda3/lib/python3.9/site-packages/sklearn/utils/fixes.py\", line 117, in __call__\n",
      "    return self.function(*args, **kwargs)\n",
      "  File \"/Users/chonge/opt/anaconda3/lib/python3.9/site-packages/sklearn/ensemble/_forest.py\", line 189, in _parallel_build_trees\n",
      "    tree.fit(X, y, sample_weight=curr_sample_weight, check_input=False)\n",
      "  File \"/Users/chonge/opt/anaconda3/lib/python3.9/site-packages/sklearn/tree/_classes.py\", line 969, in fit\n",
      "    super().fit(\n",
      "  File \"/Users/chonge/opt/anaconda3/lib/python3.9/site-packages/sklearn/tree/_classes.py\", line 265, in fit\n",
      "    check_scalar(\n",
      "  File \"/Users/chonge/opt/anaconda3/lib/python3.9/site-packages/sklearn/utils/validation.py\", line 1480, in check_scalar\n",
      "    raise ValueError(\n",
      "ValueError: min_samples_split == 1, must be >= 2.\n",
      "\n",
      "  warnings.warn(some_fits_failed_message, FitFailedWarning)\n",
      "/Users/chonge/opt/anaconda3/lib/python3.9/site-packages/sklearn/model_selection/_search.py:953: UserWarning: One or more of the test scores are non-finite: [       nan        nan        nan 0.6461126  0.64968722 0.63985702\n",
      " 0.6461126  0.64789991 0.64789991 0.63806971 0.63717605 0.63985702\n",
      "        nan        nan        nan 0.63806971 0.64343164 0.64253798\n",
      " 0.63806971 0.64343164 0.64253798 0.63806971 0.64343164 0.64253798\n",
      "        nan        nan        nan 0.62466488 0.62555853 0.62555853\n",
      " 0.62466488 0.62555853 0.62555853 0.62466488 0.62555853 0.62555853\n",
      "        nan        nan        nan 0.62466488 0.62645219 0.62734584\n",
      " 0.62466488 0.62645219 0.62734584 0.62466488 0.62645219 0.62734584\n",
      "        nan        nan        nan 0.63092046 0.64432529 0.64521895\n",
      " 0.64075067 0.63896336 0.64164433 0.63092046 0.63896336 0.63806971\n",
      "        nan        nan        nan 0.64521895 0.64075067 0.64343164\n",
      " 0.64521895 0.64075067 0.64343164 0.64521895 0.64075067 0.64343164\n",
      "        nan        nan        nan 0.61394102 0.63002681 0.63360143\n",
      " 0.61394102 0.63002681 0.63360143 0.61394102 0.63002681 0.63360143\n",
      "        nan        nan        nan 0.62109026 0.6282395  0.6282395\n",
      " 0.62109026 0.6282395  0.6282395  0.62109026 0.6282395  0.6282395 ]\n",
      "  warnings.warn(\n"
     ]
    },
    {
     "data": {
      "text/plain": [
       "{'criterion': 'gini',\n",
       " 'min_samples_leaf': 1,\n",
       " 'min_samples_split': 2,\n",
       " 'n_estimators': 200}"
      ]
     },
     "execution_count": 15,
     "metadata": {},
     "output_type": "execute_result"
    }
   ],
   "source": [
    "grid.fit(X_train_part, y_train_part)\n",
    "grid.best_params_"
   ]
  },
  {
   "cell_type": "code",
   "execution_count": 16,
   "id": "28329b42",
   "metadata": {},
   "outputs": [
    {
     "data": {
      "text/plain": [
       "0.6583333333333333"
      ]
     },
     "execution_count": 16,
     "metadata": {},
     "output_type": "execute_result"
    }
   ],
   "source": [
    "clf2 = RandomForestClassifier(criterion = 'gini',n_estimators = 200, min_samples_split = 2, min_samples_leaf = 1, random_state = 42)\n",
    "clf2.fit(X_train_part, y_train_part)\n",
    "clf2.score(X_test_part, y_test_part)"
   ]
  },
  {
   "cell_type": "code",
   "execution_count": 14,
   "id": "e17e7ee4",
   "metadata": {},
   "outputs": [
    {
     "name": "stdout",
     "output_type": "stream",
     "text": [
      "MAE: 0.35625\n",
      "MSE: 0.40208333333333335\n",
      "RMSE: 0.6341004126582267\n"
     ]
    }
   ],
   "source": [
    "pred_y = clf.predict(X_test_full)\n",
    "comparison_df = pd.DataFrame({'pred_y':pred_y, 'actual_y': y_test_full})\n",
    "print('MAE:', metrics.mean_absolute_error(comparison_df['actual_y'], comparison_df['pred_y']))\n",
    "print('MSE:', metrics.mean_squared_error(comparison_df['actual_y'], comparison_df['pred_y']))\n",
    "print('RMSE:', np.sqrt(metrics.mean_squared_error(comparison_df['actual_y'], comparison_df['pred_y'])))"
   ]
  },
  {
   "cell_type": "code",
   "execution_count": 23,
   "id": "9010ccf5",
   "metadata": {},
   "outputs": [
    {
     "name": "stdout",
     "output_type": "stream",
     "text": [
      "MAE: 0.36666666666666664\n",
      "MSE: 0.4166666666666667\n",
      "RMSE: 0.6454972243679028\n"
     ]
    }
   ],
   "source": [
    "pred_y2 = clf2.predict(X_test_part)\n",
    "comparison_df2 = pd.DataFrame({'pred_y':pred_y2, 'actual_y': y_test_part})\n",
    "print('MAE:', metrics.mean_absolute_error(comparison_df2['actual_y'], comparison_df2['pred_y']))\n",
    "print('MSE:', metrics.mean_squared_error(comparison_df2['actual_y'], comparison_df2['pred_y']))\n",
    "print('RMSE:', np.sqrt(metrics.mean_squared_error(comparison_df2['actual_y'], comparison_df2['pred_y'])))"
   ]
  },
  {
   "cell_type": "code",
   "execution_count": 24,
   "id": "5338d58e",
   "metadata": {},
   "outputs": [],
   "source": [
    "final_model = clf2\n",
    "with open('finalrf.joblib', 'wb') as f:\n",
    "    joblib.dump(final_model,f)"
   ]
  },
  {
   "cell_type": "code",
   "execution_count": 54,
   "id": "700c3147",
   "metadata": {},
   "outputs": [
    {
     "data": {
      "text/plain": [
       "'volatile acidity'"
      ]
     },
     "execution_count": 54,
     "metadata": {},
     "output_type": "execute_result"
    }
   ],
   "source": [
    "X_test_part.columns[0]"
   ]
  },
  {
   "cell_type": "code",
   "execution_count": null,
   "id": "d6c6a289",
   "metadata": {},
   "outputs": [],
   "source": []
  }
 ],
 "metadata": {
  "kernelspec": {
   "display_name": "Python 3 (ipykernel)",
   "language": "python",
   "name": "python3"
  },
  "language_info": {
   "codemirror_mode": {
    "name": "ipython",
    "version": 3
   },
   "file_extension": ".py",
   "mimetype": "text/x-python",
   "name": "python",
   "nbconvert_exporter": "python",
   "pygments_lexer": "ipython3",
   "version": "3.9.12"
  }
 },
 "nbformat": 4,
 "nbformat_minor": 5
}
